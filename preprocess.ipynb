{
 "cells": [
  {
   "cell_type": "code",
   "execution_count": 1,
   "id": "6b14ea05",
   "metadata": {},
   "outputs": [],
   "source": [
    "import pandas as pd\n",
    "import numpy as np\n",
    "\n",
    "tenancy_df = pd.read_csv(\"tenancy.csv\", parse_dates=[\"tenancy_start_date\", \"tenancy_end_date\"])\n",
    "vulnerability_df = pd.read_csv(\"vulnerability.csv\")\n",
    "case_df = pd.read_csv(\"case.csv\", parse_dates=[\"case_create_date\"])"
   ]
  },
  {
   "cell_type": "markdown",
   "id": "6bfc1425",
   "metadata": {},
   "source": [
    "## Table of contents\n",
    "\n",
    "- Point-in-time\n",
    "- Vulnerable tenants\n",
    "- Build tenancy-case level table"
   ]
  },
  {
   "cell_type": "markdown",
   "id": "b9f7b424",
   "metadata": {},
   "source": [
    "## Point-in-time \n",
    "\n",
    "Given a unit can have multiple tenants, we need to take a point-in-time view of the data. For example, given the following data where the same unit has 3 different tenants each year from 2019-2021:\n",
    "\n",
    "unit_ref|tenancy_id |tenancy start date|tenancy end date|\n",
    "---     |---        | ---              | -----------    |\n",
    "Unit1   |Tenant0    |2019-01-01        |2019-12-31      |\n",
    "Unit1   |Tenant1    |2020-01-01        |2020-12-31      |\n",
    "Unit1   |Tenant2    |2021-01-01        |2021-12-31      |\n",
    "\n",
    "If we take the point-in-time at 2020-06-01, we will exclude Tenant0 and Tenant2 in our analysis and treat this property as occupied by Tenant1."
   ]
  },
  {
   "cell_type": "code",
   "execution_count": 2,
   "id": "da33bc02",
   "metadata": {},
   "outputs": [],
   "source": [
    "date = \"2020-06-01\""
   ]
  },
  {
   "cell_type": "code",
   "execution_count": 3,
   "id": "6b2bd52e",
   "metadata": {},
   "outputs": [],
   "source": [
    "def take_point_in_time_cut(tenancy_df, date):\n",
    "    \"\"\"\n",
    "    A unit can have multiple tenants over time so we take a point-in-time cut.\n",
    "    \"\"\"\n",
    "    # select entries where the required date is between tenancy start date and end date\n",
    "    start_date_cond = tenancy_df.tenancy_start_date <= date\n",
    "    # the end date is null if the tenancy has not ended\n",
    "    end_date_cond = (date <= tenancy_df.tenancy_end_date) | (tenancy_df.tenancy_end_date.isna()) \n",
    "    filtered_df = tenancy_df.loc[start_date_cond & end_date_cond]\n",
    "    return filtered_df\n",
    "\n",
    "tenancy_df = take_point_in_time_cut(tenancy_df, date)"
   ]
  },
  {
   "cell_type": "markdown",
   "id": "e50c3466",
   "metadata": {},
   "source": [
    "## Vulnerable tenants\n",
    "\n",
    "Given a tenant can have multiple vulnerabilities, we insert two columns for `tenancy_df`:\n",
    "\n",
    "1. `number_vul`: Number of vulnerabilities per tenant \n",
    "2. `vul_ind`: An indicator if the tenant has at least one vulnerability (1 for yes, 0 for no)."
   ]
  },
  {
   "cell_type": "code",
   "execution_count": 4,
   "id": "bfb86317",
   "metadata": {},
   "outputs": [
    {
     "name": "stdout",
     "output_type": "stream",
     "text": [
      "0.0    7227\n",
      "1.0    2410\n",
      "Name: vul_ind, dtype: int64\n",
      "0.0    7227\n",
      "1.0    1495\n",
      "2.0     579\n",
      "3.0     217\n",
      "4.0      81\n",
      "5.0      23\n",
      "6.0       9\n",
      "7.0       5\n",
      "9.0       1\n",
      "Name: number_vul, dtype: int64\n"
     ]
    }
   ],
   "source": [
    "def add_tenant_vul_ind_col(tenancy_df, vulnerability_df):    \n",
    "    # calculate number of vulnerabilities per tenant \n",
    "    number_vul_df = vulnerability_df.groupby(\"tenancy_id\")[\"Vulnerability\"].count().rename(\"number_vul\").reset_index()\n",
    "    \n",
    "    # add vulnerability indicator\n",
    "    vulnerability_df = number_vul_df.assign(vul_ind=1)\n",
    "    \n",
    "    # merge with tenancy\n",
    "    merged_df = tenancy_df.merge(vulnerability_df, how=\"left\", on=\"tenancy_id\", validate=\"one_to_one\")\n",
    "    merged_df[\"number_vul\"].fillna(0, inplace=True)\n",
    "    merged_df[\"vul_ind\"].fillna(0, inplace=True)\n",
    "    return merged_df    \n",
    "\n",
    "tenancy_df = add_tenant_vul_ind_col(tenancy_df, vulnerability_df)\n",
    "print(tenancy_df[\"vul_ind\"].value_counts())\n",
    "print(tenancy_df[\"number_vul\"].value_counts())"
   ]
  },
  {
   "cell_type": "markdown",
   "id": "d203a8a2",
   "metadata": {},
   "source": [
    "## Build tenancy-case level table"
   ]
  },
  {
   "cell_type": "markdown",
   "id": "a877c8c9",
   "metadata": {},
   "source": [
    "We then need to join `tenancy_df` and `case_df` to link the damp & mould issue to the tenants. However, the cases are reported on a unit level, instead of on a tenancy level. \n",
    "\n",
    "Thereore, after joining `tenancy_df` and `case_df` on the unit level, the `tenancy_case_df` might contain entries where the tenants are not living in the unit when the case is reported hence we need to exclude these. For example, given the following data where the same unit has reported 4 cases over time:\n",
    "\n",
    "unit_ref|tenancy_id |tenancy start date|tenancy end date|case_number|case_create_date|\n",
    "---     |---        | ---              | -----------    |---        |---             |\n",
    "Unit 1  |Tenant1    |2020-01-01        |2020-12-31      |Case0      |2019-01-01      |\n",
    "Unit 1  |Tenant1    |2020-01-01        |2020-12-31      |Case1      |2019-06-01      |\n",
    "Unit 1  |Tenant1    |2020-01-01        |2020-12-31      |Case2      |2020-01-01      |  \n",
    "Unit 1  |Tenant1    |2020-01-01        |2020-12-31      |Case3      |2020-06-01      |\n",
    "\n",
    "We will exclude Case0 and Case1 since the cases were reported outside the tenancy period. "
   ]
  },
  {
   "cell_type": "code",
   "execution_count": 5,
   "id": "e4e25fe1",
   "metadata": {},
   "outputs": [],
   "source": [
    "def join_tenancy_case(tenancy_df, case_df):\n",
    "    \"\"\"\n",
    "    Many-to-many join since\n",
    "    - A unit can have multiple tenants living at the same time.\n",
    "    - A unit can report multiple issues over time.\n",
    "    \"\"\"\n",
    "    merged_df = tenancy_df.merge(case_df, how=\"left\", on=\"unit_ref\", validate=\"many_to_many\")\n",
    "    return merged_df\n",
    "\n",
    "def exclude_invalid_cases(tenancy_case_df):\n",
    "    # select entries where the case create date is within the tenancy start date and end date\n",
    "    start_date_cond = tenancy_case_df.tenancy_start_date <= tenancy_case_df.case_create_date\n",
    "    # the end date is null if the tenancy has not ended\n",
    "    end_date_cond = (tenancy_case_df.case_create_date <= tenancy_case_df.tenancy_end_date) | (tenancy_case_df.tenancy_end_date.isna())\n",
    "    \n",
    "    filtered_df = tenancy_case_df.loc[start_date_cond & end_date_cond]\n",
    "    \n",
    "    return filtered_df"
   ]
  },
  {
   "cell_type": "code",
   "execution_count": 6,
   "id": "c3d30ca2",
   "metadata": {},
   "outputs": [
    {
     "name": "stdout",
     "output_type": "stream",
     "text": [
      "<class 'pandas.core.frame.DataFrame'>\n",
      "Int64Index: 42544 entries, 0 to 44824\n",
      "Data columns (total 12 columns):\n",
      " #   Column              Non-Null Count  Dtype         \n",
      "---  ------              --------------  -----         \n",
      " 0   unit_ref            42544 non-null  object        \n",
      " 1   tenancy_id          42544 non-null  object        \n",
      " 2   tenancy_start_date  42544 non-null  datetime64[ns]\n",
      " 3   tenancy_end_date    2501 non-null   datetime64[ns]\n",
      " 4   number_vul          42544 non-null  float64       \n",
      " 5   vul_ind             42544 non-null  float64       \n",
      " 6   case_number         42544 non-null  object        \n",
      " 7   unit_build_year     40970 non-null  float64       \n",
      " 8   case_status         42544 non-null  object        \n",
      " 9   case_type           42544 non-null  object        \n",
      " 10  case_sub_type       20621 non-null  object        \n",
      " 11  case_create_date    42544 non-null  datetime64[ns]\n",
      "dtypes: datetime64[ns](3), float64(3), object(6)\n",
      "memory usage: 4.2+ MB\n"
     ]
    }
   ],
   "source": [
    "tenancy_case_df = join_tenancy_case(tenancy_df, case_df).pipe(exclude_invalid_cases)\n",
    "\n",
    "tenancy_case_df.info()"
   ]
  },
  {
   "cell_type": "code",
   "execution_count": 7,
   "id": "8ce5b70f",
   "metadata": {},
   "outputs": [],
   "source": [
    "tenancy_case_df.to_csv(\"tenancy_case.csv\", index=False)"
   ]
  }
 ],
 "metadata": {
  "kernelspec": {
   "display_name": "Python 3",
   "language": "python",
   "name": "python3"
  },
  "language_info": {
   "codemirror_mode": {
    "name": "ipython",
    "version": 3
   },
   "file_extension": ".py",
   "mimetype": "text/x-python",
   "name": "python",
   "nbconvert_exporter": "python",
   "pygments_lexer": "ipython3",
   "version": "3.7.1"
  }
 },
 "nbformat": 4,
 "nbformat_minor": 5
}
