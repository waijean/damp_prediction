{
 "cells": [
  {
   "cell_type": "markdown",
   "id": "dd221a55",
   "metadata": {},
   "source": [
    "## Task 1\n",
    "\n",
    "Build a model to predict likelihood of developing damp and mould in our properties."
   ]
  },
  {
   "cell_type": "code",
   "execution_count": 1,
   "id": "4c32121e",
   "metadata": {},
   "outputs": [],
   "source": [
    "import pandas as pd\n",
    "import numpy as np\n",
    "\n",
    "tenancy_case_df = pd.read_csv(\"tenancy_case.csv\", parse_dates=[\"tenancy_start_date\", \"tenancy_end_date\", \"case_create_date\"])"
   ]
  },
  {
   "cell_type": "markdown",
   "id": "5209d1df",
   "metadata": {},
   "source": [
    "## Table of contents\n",
    "\n",
    "- Model formulation\n",
    "    - Optimum point-in-time\n",
    "- Target\n",
    "- Feature Engineering\n",
    "- Model Development\n",
    "    - Pipeline\n",
    "    - Hyperparameter Tuning\n",
    "- Analysis\n",
    "    - Model Performance\n",
    "    - Feature Importance\n",
    "- Improvement Ideas"
   ]
  },
  {
   "cell_type": "markdown",
   "id": "ce15e87b",
   "metadata": {},
   "source": [
    "## Model Formulation\n",
    "\n",
    "Given a point-in-time $t$, we are not interested in whether a unit had damp & mould issue in the past, but we would like to know how likely the property will have damp & mould issue in the future.\n",
    "\n",
    "Therefore, we will build a binary classification model using the following definitions:\n",
    "\n",
    "- Each example in our training set will be a unit which is occupied at time $t$.\n",
    "- The target has a value 1 if the unit reports damp & mould issue at least once in the future at some time $t'>t$, and 0 otherwise. \n",
    "\n",
    "The reason for this formulation is two-fold:\n",
    "\n",
    "1. This closely simluates the deployment in real world, where we need to make batch predictions at time $t$ and determine which unit will develop damp & mould issue at some time $t'>t$.\n",
    "2. This prevents target leakage since we can formally limit ourselves to only engineer features using information up to time $t$."
   ]
  },
  {
   "cell_type": "markdown",
   "id": "662a0121",
   "metadata": {},
   "source": [
    "### Optimum point-in-time\n",
    "\n",
    "We need to choose a time $t$ such that it has a good balance between the number of issues in the history (for feature engineering) and the number of issues in the future (for a less imbalanced target).\n",
    "\n",
    "Looking at the graph below, the optimum point seems to be mid-2020, so we set the point-in-time date to 2020-06-01."
   ]
  },
  {
   "cell_type": "code",
   "execution_count": 2,
   "id": "7c7fe3e8",
   "metadata": {},
   "outputs": [
    {
     "data": {
      "text/plain": [
       "<AxesSubplot:xlabel='case_create_date'>"
      ]
     },
     "execution_count": 2,
     "metadata": {},
     "output_type": "execute_result"
    },
    {
     "data": {
      "image/png": "[encoded data removed]",
      "text/plain": [
       "<Figure size 432x288 with 1 Axes>"
      ]
     },
     "metadata": {
      "needs_background": "light"
     },
     "output_type": "display_data"
    }
   ],
   "source": [
    "damp_cond = tenancy_case_df[\"case_sub_type\"]==\"Damp & Mould\"\n",
    "tenancy_case_df[damp_cond].set_index(\"case_create_date\").resample(\"M\")[\"unit_ref\"].count().plot()"
   ]
  },
  {
   "cell_type": "code",
   "execution_count": 3,
   "id": "08065167",
   "metadata": {},
   "outputs": [],
   "source": [
    "date = \"2020-06-01\""
   ]
  },
  {
   "cell_type": "markdown",
   "id": "269fa4bc",
   "metadata": {},
   "source": [
    "## Target\n",
    "\n",
    "`tenancy_case_df` contains the case history reported by tenants living in the unit on 2020-06-01. Since we are building the model on a unit level, we need to aggregate up to the unit level."
   ]
  },
  {
   "cell_type": "code",
   "execution_count": 4,
   "id": "38851ab4",
   "metadata": {},
   "outputs": [],
   "source": [
    "def create_target(tenancy_case_df, date):\n",
    "    \"\"\"\n",
    "    Given a point-in-time, create a column to indicate whether the unit has at least once damp and mould issue in the future. \n",
    "    \"\"\"    \n",
    "    # create unit damp indicator\n",
    "    future_cond = tenancy_case_df.case_create_date > date \n",
    "    damp_cond = tenancy_case_df[\"case_sub_type\"]==\"Damp & Mould\"\n",
    "    tenancy_case_df = tenancy_case_df.assign(damp_ind=np.where(damp_cond & future_cond, 1, 0))\n",
    "    \n",
    "    # aggregate up to unit level by summing the total number of damp and mould issues \n",
    "    unit_damp_df = tenancy_case_df.groupby(\"unit_ref\")[\"damp_ind\"].sum().rename(\"number_damp_issue_future\").reset_index()\n",
    "    unit_damp_df = unit_damp_df.assign(target=np.where(unit_damp_df[\"number_damp_issue_future\"]==0, 0, 1))\n",
    "    \n",
    "    return unit_damp_df[\"target\"]"
   ]
  },
  {
   "cell_type": "code",
   "execution_count": 5,
   "id": "18737307",
   "metadata": {},
   "outputs": [
    {
     "data": {
      "text/plain": [
       "0    8620\n",
       "1     940\n",
       "Name: target, dtype: int64"
      ]
     },
     "execution_count": 5,
     "metadata": {},
     "output_type": "execute_result"
    }
   ],
   "source": [
    "target = create_target(tenancy_case_df, date)\n",
    "target.value_counts()"
   ]
  },
  {
   "cell_type": "markdown",
   "id": "1c597540",
   "metadata": {},
   "source": [
    "## Feature Engineering\n",
    "\n",
    "Using our domain knowledge, we create the following features which might be useful to predict the likelihood of having damp & mould issues.\n",
    "\n",
    "1. **Tenant**\n",
    "- `number_vul_tenants`: Number of vulnerable tenants in the unit. \n",
    "- `tenancy_length`: Average length of tenancy (days) for the unit. (i.e how long has the current tenant been staying in the unit).\n",
    "\n",
    "2. **Unit**\n",
    "- `unit_age`: The building age of the unit (years).\n",
    "- `number_maintenance`: Number of direct maintenance reported in the past.\n",
    "- `number_damp_past`: Number of damp & mould issues reported in the past."
   ]
  },
  {
   "cell_type": "code",
   "execution_count": 6,
   "id": "ccf6fe08",
   "metadata": {},
   "outputs": [],
   "source": [
    "def create_number_vul_tenants(tenancy_case_df):    \n",
    "    tenants_df = tenancy_case_df[[\"unit_ref\", \"tenancy_id\", \"vul_ind\"]].drop_duplicates()\n",
    "    number_vul_tenants = tenants_df.groupby(\"unit_ref\")[\"vul_ind\"].sum().rename(\"number_vul_tenants\")\n",
    "    \n",
    "    return number_vul_tenants"
   ]
  },
  {
   "cell_type": "code",
   "execution_count": 7,
   "id": "2a8351d4",
   "metadata": {},
   "outputs": [
    {
     "data": {
      "text/plain": [
       "0.0    7158\n",
       "1.0    2399\n",
       "2.0       3\n",
       "Name: number_vul_tenants, dtype: int64"
      ]
     },
     "execution_count": 7,
     "metadata": {},
     "output_type": "execute_result"
    }
   ],
   "source": [
    "number_vul_tenants = create_number_vul_tenants(tenancy_case_df)\n",
    "number_vul_tenants.value_counts()"
   ]
  },
  {
   "cell_type": "code",
   "execution_count": 8,
   "id": "c1662bd7",
   "metadata": {},
   "outputs": [],
   "source": [
    "def create_tenancy_length(tenancy_case_df, date):    \n",
    "    tenants_df = tenancy_case_df[[\"unit_ref\", \"tenancy_id\", \"tenancy_start_date\"]].drop_duplicates()\n",
    "    # tenancy length is the number of days between current date and tenancy start date\n",
    "    tenants_df = tenants_df.assign(tenancy_length=(pd.to_datetime(date)-tenants_df[\"tenancy_start_date\"]).dt.days)\n",
    "    tenancy_length = tenants_df.groupby(\"unit_ref\")[\"tenancy_length\"].mean().rename(\"avg_tenancy_length\")\n",
    "\n",
    "    return tenancy_length"
   ]
  },
  {
   "cell_type": "code",
   "execution_count": 9,
   "id": "cd3c0d34",
   "metadata": {},
   "outputs": [
    {
     "data": {
      "text/plain": [
       "count     9560.000000\n",
       "mean      3862.904132\n",
       "std       3287.768454\n",
       "min          0.000000\n",
       "25%       1267.000000\n",
       "50%       3129.000000\n",
       "75%       5534.000000\n",
       "max      43616.000000\n",
       "Name: avg_tenancy_length, dtype: float64"
      ]
     },
     "execution_count": 9,
     "metadata": {},
     "output_type": "execute_result"
    }
   ],
   "source": [
    "tenancy_length = create_tenancy_length(tenancy_case_df, date)\n",
    "tenancy_length.describe()"
   ]
  },
  {
   "cell_type": "code",
   "execution_count": 10,
   "id": "45086120",
   "metadata": {},
   "outputs": [],
   "source": [
    "def create_unit_age(tenancy_case_df, date):    \n",
    "    units_df = tenancy_case_df[[\"unit_ref\", \"unit_build_year\"]].drop_duplicates()\n",
    "    # building age is the number of years between current year and unit build year\n",
    "    units_df = units_df.assign(unit_age=pd.to_datetime(date).year-units_df[\"unit_build_year\"])\n",
    "    \n",
    "    return units_df.set_index(\"unit_ref\").unit_age"
   ]
  },
  {
   "cell_type": "code",
   "execution_count": 11,
   "id": "9e26a044",
   "metadata": {},
   "outputs": [
    {
     "data": {
      "text/plain": [
       "count    9135.000000\n",
       "mean       45.401642\n",
       "std        43.954170\n",
       "min         0.000000\n",
       "25%        12.000000\n",
       "50%        26.000000\n",
       "75%        67.000000\n",
       "max       300.000000\n",
       "Name: unit_age, dtype: float64"
      ]
     },
     "execution_count": 11,
     "metadata": {},
     "output_type": "execute_result"
    }
   ],
   "source": [
    "unit_age = create_unit_age(tenancy_case_df, date)\n",
    "unit_age.describe()"
   ]
  },
  {
   "cell_type": "code",
   "execution_count": 12,
   "id": "b2666923",
   "metadata": {},
   "outputs": [],
   "source": [
    "def create_number_maintenance(tenancy_case_df, date):    \n",
    "    # create unit maintenance indicator\n",
    "    past_cond = tenancy_case_df.case_create_date < date \n",
    "    maintenance_cond = tenancy_case_df[\"case_type\"]==\"Direct Maintenance\"\n",
    "    tenancy_case_df = tenancy_case_df.assign(maintenance_ind=np.where(past_cond & maintenance_cond, 1, 0))\n",
    "    \n",
    "    number_maintenance = tenancy_case_df.groupby(\"unit_ref\")[\"maintenance_ind\"].sum().rename(\"number_maintenance\")\n",
    "    \n",
    "    return number_maintenance"
   ]
  },
  {
   "cell_type": "code",
   "execution_count": 13,
   "id": "12168115",
   "metadata": {},
   "outputs": [
    {
     "data": {
      "text/plain": [
       "0    7833\n",
       "1    1371\n",
       "2     263\n",
       "3      63\n",
       "4      25\n",
       "5       3\n",
       "7       2\n",
       "Name: number_maintenance, dtype: int64"
      ]
     },
     "execution_count": 13,
     "metadata": {},
     "output_type": "execute_result"
    }
   ],
   "source": [
    "number_maintenance = create_number_maintenance(tenancy_case_df, date)\n",
    "number_maintenance.value_counts()"
   ]
  },
  {
   "cell_type": "code",
   "execution_count": 14,
   "id": "a502b428",
   "metadata": {},
   "outputs": [],
   "source": [
    "def create_number_damp(tenancy_case_df, date):    \n",
    "    # create unit damp indicator\n",
    "    past_cond = tenancy_case_df.case_create_date < date \n",
    "    damp_cond = tenancy_case_df[\"case_sub_type\"]==\"Damp & Mould\"\n",
    "    tenancy_case_df = tenancy_case_df.assign(damp_ind=np.where(past_cond & damp_cond, 1, 0))\n",
    "    \n",
    "    number_damp_past = tenancy_case_df.groupby(\"unit_ref\")[\"damp_ind\"].sum().rename(\"number_damp_past\")\n",
    "    \n",
    "    return number_damp_past"
   ]
  },
  {
   "cell_type": "code",
   "execution_count": 15,
   "id": "8b21176d",
   "metadata": {},
   "outputs": [
    {
     "data": {
      "text/plain": [
       "0    9214\n",
       "1     327\n",
       "2      18\n",
       "3       1\n",
       "Name: number_damp_past, dtype: int64"
      ]
     },
     "execution_count": 15,
     "metadata": {},
     "output_type": "execute_result"
    }
   ],
   "source": [
    "number_damp_past = create_number_damp(tenancy_case_df, date)\n",
    "number_damp_past.value_counts()"
   ]
  },
  {
   "cell_type": "code",
   "execution_count": 16,
   "id": "594ac6ef",
   "metadata": {},
   "outputs": [],
   "source": [
    "feature_df = pd.concat([number_vul_tenants, tenancy_length, unit_age, number_maintenance, number_damp_past], axis=1)\n",
    "\n",
    "assert len(feature_df) == len(target)"
   ]
  },
  {
   "cell_type": "code",
   "execution_count": 17,
   "id": "94416ac6",
   "metadata": {},
   "outputs": [
    {
     "data": {
      "text/html": [
       "<div>\n",
       "<style scoped>\n",
       "    .dataframe tbody tr th:only-of-type {\n",
       "        vertical-align: middle;\n",
       "    }\n",
       "\n",
       "    .dataframe tbody tr th {\n",
       "        vertical-align: top;\n",
       "    }\n",
       "\n",
       "    .dataframe thead th {\n",
       "        text-align: right;\n",
       "    }\n",
       "</style>\n",
       "<table border=\"1\" class=\"dataframe\">\n",
       "  <thead>\n",
       "    <tr style=\"text-align: right;\">\n",
       "      <th></th>\n",
       "      <th>number_vul_tenants</th>\n",
       "      <th>avg_tenancy_length</th>\n",
       "      <th>unit_age</th>\n",
       "      <th>number_maintenance</th>\n",
       "      <th>number_damp_past</th>\n",
       "    </tr>\n",
       "    <tr>\n",
       "      <th>unit_ref</th>\n",
       "      <th></th>\n",
       "      <th></th>\n",
       "      <th></th>\n",
       "      <th></th>\n",
       "      <th></th>\n",
       "    </tr>\n",
       "  </thead>\n",
       "  <tbody>\n",
       "    <tr>\n",
       "      <th>Unit0</th>\n",
       "      <td>0.0</td>\n",
       "      <td>1884.0</td>\n",
       "      <td>110.0</td>\n",
       "      <td>2</td>\n",
       "      <td>1</td>\n",
       "    </tr>\n",
       "    <tr>\n",
       "      <th>Unit1</th>\n",
       "      <td>0.0</td>\n",
       "      <td>3199.0</td>\n",
       "      <td>30.0</td>\n",
       "      <td>0</td>\n",
       "      <td>0</td>\n",
       "    </tr>\n",
       "    <tr>\n",
       "      <th>Unit10</th>\n",
       "      <td>1.0</td>\n",
       "      <td>6113.0</td>\n",
       "      <td>46.0</td>\n",
       "      <td>0</td>\n",
       "      <td>0</td>\n",
       "    </tr>\n",
       "    <tr>\n",
       "      <th>Unit100</th>\n",
       "      <td>0.0</td>\n",
       "      <td>2471.0</td>\n",
       "      <td>23.0</td>\n",
       "      <td>1</td>\n",
       "      <td>0</td>\n",
       "    </tr>\n",
       "    <tr>\n",
       "      <th>Unit1000</th>\n",
       "      <td>0.0</td>\n",
       "      <td>4806.0</td>\n",
       "      <td>13.0</td>\n",
       "      <td>0</td>\n",
       "      <td>0</td>\n",
       "    </tr>\n",
       "  </tbody>\n",
       "</table>\n",
       "</div>"
      ],
      "text/plain": [
       "          number_vul_tenants  avg_tenancy_length  unit_age  \\\n",
       "unit_ref                                                     \n",
       "Unit0                    0.0              1884.0     110.0   \n",
       "Unit1                    0.0              3199.0      30.0   \n",
       "Unit10                   1.0              6113.0      46.0   \n",
       "Unit100                  0.0              2471.0      23.0   \n",
       "Unit1000                 0.0              4806.0      13.0   \n",
       "\n",
       "          number_maintenance  number_damp_past  \n",
       "unit_ref                                        \n",
       "Unit0                      2                 1  \n",
       "Unit1                      0                 0  \n",
       "Unit10                     0                 0  \n",
       "Unit100                    1                 0  \n",
       "Unit1000                   0                 0  "
      ]
     },
     "execution_count": 17,
     "metadata": {},
     "output_type": "execute_result"
    }
   ],
   "source": [
    "feature_df.head()"
   ]
  },
  {
   "cell_type": "code",
   "execution_count": 18,
   "id": "edf8b903",
   "metadata": {},
   "outputs": [
    {
     "data": {
      "text/plain": [
       "number_vul_tenants      0\n",
       "avg_tenancy_length      0\n",
       "unit_age              425\n",
       "number_maintenance      0\n",
       "number_damp_past        0\n",
       "dtype: int64"
      ]
     },
     "execution_count": 18,
     "metadata": {},
     "output_type": "execute_result"
    }
   ],
   "source": [
    "# only the unit_age has missing values\n",
    "feature_df.isna().sum()"
   ]
  },
  {
   "cell_type": "markdown",
   "id": "eca6c0fa",
   "metadata": {},
   "source": [
    "## Model Development\n",
    "\n",
    "### Pipeline\n",
    "\n",
    "Given that we have an imbalanced dataset, we will perform random undersampling to undersample the majority class without replacement.\n",
    "\n",
    "Since we only have 5 features, we will use a simpler model (Logistic Regression) to fit the data. By using Logistic Regression, the model is also more interpretable because we can get the coefficients associated with each feature and understand how each feature contributes to the prediction.\n",
    "\n",
    "Since we are using regularization for the model, we will standardize the features by removing the mean and scaling to unit variance. We also impute the missing values (only for unit age in the given data) with the average value since that's our \"best guess\" if we have no information about the unit age."
   ]
  },
  {
   "cell_type": "code",
   "execution_count": 19,
   "id": "8d2d7605",
   "metadata": {},
   "outputs": [],
   "source": [
    "from sklearn.model_selection import train_test_split\n",
    "\n",
    "X_train, X_test, y_train, y_test = train_test_split(feature_df, target, test_size=0.2, random_state=0, stratify=target)"
   ]
  },
  {
   "cell_type": "code",
   "execution_count": 20,
   "id": "4a97ed66",
   "metadata": {},
   "outputs": [],
   "source": [
    "from imblearn.pipeline import make_pipeline\n",
    "from imblearn.under_sampling import RandomUnderSampler\n",
    "from sklearn.preprocessing import StandardScaler\n",
    "from sklearn.impute import SimpleImputer\n",
    "from sklearn.linear_model import LogisticRegression\n",
    "\n",
    "pipe = make_pipeline(\n",
    "    StandardScaler(), \n",
    "    SimpleImputer(strategy=\"mean\"),\n",
    "    RandomUnderSampler(random_state=0),\n",
    "    LogisticRegression(random_state=0),\n",
    ")"
   ]
  },
  {
   "cell_type": "markdown",
   "id": "8862d3f9",
   "metadata": {},
   "source": [
    "### Hyperparameter Tuning\n",
    "We split the data into 80% train and 20% test set, and perform random search on the 80% train set using 3-fold cross-validation.\n",
    "\n",
    "As for the metrics, we will use f1 score to detertmine the best model during hyperparameter tuning."
   ]
  },
  {
   "cell_type": "code",
   "execution_count": 21,
   "id": "76ff0be3",
   "metadata": {},
   "outputs": [],
   "source": [
    "from sklearn.model_selection import RandomizedSearchCV\n",
    "from sklearn.utils.fixes import loguniform\n",
    "\n",
    "param_distributions = {\n",
    "    'logisticregression__penalty' : ['l1', 'l2'],\n",
    "    'logisticregression__C' : loguniform(1,100),\n",
    "    'logisticregression__solver' : ['liblinear', 'saga'] # only these two solvers can handle l1 and l2 penalty\n",
    "}\n",
    "\n",
    "clf = RandomizedSearchCV(pipe, param_distributions, cv=3, scoring=[\"precision\", \"recall\", \"f1\"], return_train_score=True, \n",
    "                         refit=\"f1\", random_state=0)\n",
    "\n",
    "search = clf.fit(X_train, y_train)"
   ]
  },
  {
   "cell_type": "code",
   "execution_count": 22,
   "id": "d71ca7bf",
   "metadata": {},
   "outputs": [
    {
     "name": "stdout",
     "output_type": "stream",
     "text": [
      "Best hyperparameters:\n",
      "{'logisticregression__C': 7.501954443620119,\n",
      " 'logisticregression__penalty': 'l1',\n",
      " 'logisticregression__solver': 'liblinear'}\n",
      "Best f1 score: 0.24\n"
     ]
    }
   ],
   "source": [
    "from pprint import pprint\n",
    "\n",
    "print(f\"Best hyperparameters:\") \n",
    "pprint(search.best_params_) \n",
    "print(f\"Best f1 score: {search.best_score_:.2f}\")"
   ]
  },
  {
   "cell_type": "markdown",
   "id": "f6aec37b",
   "metadata": {},
   "source": [
    "## Analysis \n",
    "\n",
    "### Model Performance\n",
    "\n",
    "*Assumption: After we identify the potential units with high likelihood of having damp & mould issue, we will send a maintenance team to check whether these units do have a damp & mould issue.*\n",
    "\n",
    "Using only 5 features, our model achieves 15% precision and 61% recall. This means for every 100 units which the model predicts to have damp & mould issue, only 15 of these units actually have damp & mould issue. While this is not ideal, a false positive is a relatively small cost to the business since the maintenance check is only a small inconvenience to the tenants.\n",
    "\n",
    "On the other hand, our model can identify 61% of all units which have damp & mould issue. This is more important since failing to identify a unit which has damp and mould issue will result in bad tenant experience and reputational damage. \n",
    "\n",
    "By default, Logistic Regression uses a threshold of 50% to classify whether a unit has damp & mould issue. If we have an estimate of the cost for false positive and false negative,  we can find the optimum threshold by minimizing the cost.  "
   ]
  },
  {
   "cell_type": "code",
   "execution_count": 23,
   "id": "267557ce",
   "metadata": {},
   "outputs": [
    {
     "name": "stdout",
     "output_type": "stream",
     "text": [
      "              precision    recall  f1-score   support\n",
      "\n",
      "           0       0.94      0.63      0.75      1724\n",
      "           1       0.15      0.61      0.25       188\n",
      "\n",
      "    accuracy                           0.63      1912\n",
      "   macro avg       0.55      0.62      0.50      1912\n",
      "weighted avg       0.86      0.63      0.70      1912\n",
      "\n"
     ]
    }
   ],
   "source": [
    "from sklearn.metrics import classification_report\n",
    "\n",
    "y_pred = search.best_estimator_.predict(X_test)\n",
    "print(classification_report(y_test, y_pred))"
   ]
  },
  {
   "cell_type": "markdown",
   "id": "cb53b9f6",
   "metadata": {},
   "source": [
    "### Feature Importance\n",
    "\n",
    "We observe that the `unit_age` is the most important feature in predicting the likelihood of damp & mould problem, despite being the only feature with missing values. Therefore, we should prioritize in getting the unit age information. Currently, our pipeline is extracting the unit age information from the case history so the units which have yet to raise any case will not have unit age information. One potential solution is to extract the unit age information from units dataset (if available).\n",
    "\n",
    "The second most important feature is the number of tenants with vulnerability, which aligns with the result of hypothesis testing in part 2. "
   ]
  },
  {
   "cell_type": "code",
   "execution_count": 24,
   "id": "cd38537e",
   "metadata": {},
   "outputs": [
    {
     "data": {
      "text/plain": [
       "unit_age              0.328440\n",
       "number_vul_tenants    0.262551\n",
       "number_damp_past      0.134899\n",
       "number_maintenance    0.129857\n",
       "avg_tenancy_length    0.034351\n",
       "dtype: float64"
      ]
     },
     "execution_count": 24,
     "metadata": {},
     "output_type": "execute_result"
    }
   ],
   "source": [
    "pd.Series(search.best_estimator_['logisticregression'].coef_.ravel(), index=X_train.columns).sort_values(ascending=False)"
   ]
  },
  {
   "cell_type": "markdown",
   "id": "916680d9",
   "metadata": {},
   "source": [
    "## Improvement Ideas"
   ]
  },
  {
   "cell_type": "markdown",
   "id": "6d1e7014",
   "metadata": {},
   "source": [
    "We could enginner the following features if we have more information about the unit.\n",
    "- Geographic location: Perhaps units in locations with high humidity might be more prone to damp & mould issue.\n",
    "- Mapping between units and flats: If a unit in the flat has damp & mould issue, other units in the same flat might have the same issue."
   ]
  }
 ],
 "metadata": {
  "kernelspec": {
   "display_name": "Python 3",
   "language": "python",
   "name": "python3"
  },
  "language_info": {
   "codemirror_mode": {
    "name": "ipython",
    "version": 3
   },
   "file_extension": ".py",
   "mimetype": "text/x-python",
   "name": "python",
   "nbconvert_exporter": "python",
   "pygments_lexer": "ipython3",
   "version": "3.7.1"
  }
 },
 "nbformat": 4,
 "nbformat_minor": 5
}
