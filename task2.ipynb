{
 "cells": [
  {
   "cell_type": "markdown",
   "id": "97267efc",
   "metadata": {},
   "source": [
    "## Task 2\n",
    "Test the hypothesis that, properties with vulnerable tenants have higher likelihood of developing damp and mould problems.  "
   ]
  },
  {
   "cell_type": "code",
   "execution_count": 1,
   "id": "bc8df012",
   "metadata": {},
   "outputs": [],
   "source": [
    "import pandas as pd\n",
    "import numpy as np\n",
    "\n",
    "tenancy_case_df = pd.read_csv(\"tenancy_case.csv\")"
   ]
  },
  {
   "cell_type": "markdown",
   "id": "b4ec6eb8",
   "metadata": {},
   "source": [
    "## Table of contents\n",
    "\n",
    "- Methodology\n",
    "- Assumptions\n",
    "- Data Preparation\n",
    "- Hypothesis Testing\n",
    "- Conclusion\n",
    "- Appendix"
   ]
  },
  {
   "cell_type": "markdown",
   "id": "16e150f0",
   "metadata": {},
   "source": [
    "## Methodology\n",
    "\n",
    "Let \n",
    "- $p_1$ = the proportion of the properties with vulnerable tenants who has damp and mould problems\n",
    "- $p_2$ = the proportion of the properties without vulnerable tenants who has damp and mould problems. \n",
    "\n",
    "Then we are interested in testing the null hypothesis: $H_0:p_1=p_2$ against the alternative hypothesis: $H_1:p_1>p_2$.\n",
    "\n",
    "The test statistic for testing the difference in two population proportions under the null hypothesis: $H_0:p_1=p_2$  is \n",
    "\n",
    "$Z=\\dfrac{(\\hat{p}_1-\\hat{p}_2)-0}{\\sqrt{\\hat{p}(1-\\hat{p})\\left(\\dfrac{1}{n_1}+\\dfrac{1}{n_2}\\right)}}$ \n",
    "\n",
    "where\n",
    "\n",
    "$\\hat{p}=\\dfrac{Y_1+Y_2}{n_1+n_2}$\n",
    "\n",
    "is the proportion of properties which have damp and mould problems in the two samples combined.\n",
    "\n",
    "For more information on how the test statistic is derived, please refer to the *Appendix* section at the end."
   ]
  },
  {
   "cell_type": "markdown",
   "id": "8dd1bafe",
   "metadata": {},
   "source": [
    "## Assumptions\n",
    "\n",
    "**1. The sampling method for each population is simple random sampling.**\n",
    "\n",
    "Our population is all the units in L&Q properties (over 100,000) but we only have ~10,000 in the dataset. We need to check with the data engineers on why this might be the case.\n",
    "\n",
    "For the vulnerable tenants, we are only using samples where tenants have reported to be vulnerable and therefore excluding tenants who fail to report (could be due to a variety of reasons such as personal dignity or unawareness about the reporting mechanism). We need to check with the tenancy team on how likely this might occur. \n",
    "\n",
    "**2. The samples are independent.**\n",
    "\n",
    "This assumes the likelihood of a property to have damp and mould problem is independent of another property.\n",
    "\n",
    "We can assume this assumption is true for houses but this might be a weak assumption for flats. If the damp and mould issue is due to penetrating damp (caused by water coming through external walls or the roof) or rising damp (when moisture beneath a building is soaked up into the bricks or concrete), then this might potentially affect all the units in a flat. Therefore, if a unit in a flat has damp and mould problem, another unit in the same flat might have a higher likelihood of having damp and mould problem.\n",
    "\n",
    "**3. Each sample includes at least 10 successes and 10 failures.** \n",
    "\n",
    "**4. Each population is at least 20 times as big as its sample.**"
   ]
  },
  {
   "cell_type": "markdown",
   "id": "63ea8695",
   "metadata": {},
   "source": [
    "## Data Preparation\n",
    "\n",
    "`tenancy_case_df` contains the case history reported by tenants living in the unit on 2020-06-01. Since we are testing the hypothesis on a unit level, we need to aggregate up to the unit level.\n",
    "\n",
    "We will use the following definitions:\n",
    "- A unit with vulnerable tenant is a unit with at least one vulnerable tenant. \n",
    "- A unit has damp & mould problem if it reported damp & mould issue at least once."
   ]
  },
  {
   "cell_type": "code",
   "execution_count": 2,
   "id": "f34a9db4",
   "metadata": {},
   "outputs": [],
   "source": [
    "def reduce_unit_level(tenancy_case_df):\n",
    "    \"\"\"\n",
    "    Aggregate from tenancy-case level up to unit level.\n",
    "    \"\"\"\n",
    "    # create unit vulnerability indicator\n",
    "    tenants_df = tenancy_case_df[[\"unit_ref\", \"tenancy_id\", \"vul_ind\"]].drop_duplicates()\n",
    "    unit_vul_df = tenants_df.groupby(\"unit_ref\")[\"vul_ind\"].sum().rename(\"number_vul_tenants\").reset_index()\n",
    "    unit_vul_df = unit_vul_df.assign(unit_vul_ind=np.where(unit_vul_df[\"number_vul_tenants\"]==0, 0, 1))\n",
    "    \n",
    "    # create unit damp indicator\n",
    "    damp_cond = tenancy_case_df[\"case_sub_type\"]==\"Damp & Mould\"\n",
    "    tenancy_case_df = tenancy_case_df.assign(damp_ind=np.where(damp_cond, 1, 0))\n",
    "    unit_damp_df = tenancy_case_df.groupby(\"unit_ref\")[\"damp_ind\"].sum().rename(\"number_damp_issue\").reset_index()\n",
    "    unit_damp_df = unit_damp_df.assign(unit_damp_ind=np.where(unit_damp_df[\"number_damp_issue\"]==0, 0, 1))\n",
    "    \n",
    "    merged_df = unit_vul_df.merge(unit_damp_df, on=\"unit_ref\", validate=\"one_to_one\")\n",
    "    return merged_df\n",
    "\n",
    "unit_df = reduce_unit_level(tenancy_case_df)"
   ]
  },
  {
   "cell_type": "code",
   "execution_count": 3,
   "id": "1d967d6c",
   "metadata": {},
   "outputs": [
    {
     "data": {
      "text/html": [
       "<div>\n",
       "<style scoped>\n",
       "    .dataframe tbody tr th:only-of-type {\n",
       "        vertical-align: middle;\n",
       "    }\n",
       "\n",
       "    .dataframe tbody tr th {\n",
       "        vertical-align: top;\n",
       "    }\n",
       "\n",
       "    .dataframe thead th {\n",
       "        text-align: right;\n",
       "    }\n",
       "</style>\n",
       "<table border=\"1\" class=\"dataframe\">\n",
       "  <thead>\n",
       "    <tr style=\"text-align: right;\">\n",
       "      <th></th>\n",
       "      <th>unit_ref</th>\n",
       "      <th>number_vul_tenants</th>\n",
       "      <th>unit_vul_ind</th>\n",
       "      <th>number_damp_issue</th>\n",
       "      <th>unit_damp_ind</th>\n",
       "    </tr>\n",
       "  </thead>\n",
       "  <tbody>\n",
       "    <tr>\n",
       "      <th>0</th>\n",
       "      <td>Unit0</td>\n",
       "      <td>0.0</td>\n",
       "      <td>0</td>\n",
       "      <td>1</td>\n",
       "      <td>1</td>\n",
       "    </tr>\n",
       "    <tr>\n",
       "      <th>1</th>\n",
       "      <td>Unit1</td>\n",
       "      <td>0.0</td>\n",
       "      <td>0</td>\n",
       "      <td>1</td>\n",
       "      <td>1</td>\n",
       "    </tr>\n",
       "    <tr>\n",
       "      <th>2</th>\n",
       "      <td>Unit10</td>\n",
       "      <td>1.0</td>\n",
       "      <td>1</td>\n",
       "      <td>1</td>\n",
       "      <td>1</td>\n",
       "    </tr>\n",
       "    <tr>\n",
       "      <th>3</th>\n",
       "      <td>Unit100</td>\n",
       "      <td>0.0</td>\n",
       "      <td>0</td>\n",
       "      <td>1</td>\n",
       "      <td>1</td>\n",
       "    </tr>\n",
       "    <tr>\n",
       "      <th>4</th>\n",
       "      <td>Unit1000</td>\n",
       "      <td>0.0</td>\n",
       "      <td>0</td>\n",
       "      <td>0</td>\n",
       "      <td>0</td>\n",
       "    </tr>\n",
       "  </tbody>\n",
       "</table>\n",
       "</div>"
      ],
      "text/plain": [
       "   unit_ref  number_vul_tenants  unit_vul_ind  number_damp_issue  \\\n",
       "0     Unit0                 0.0             0                  1   \n",
       "1     Unit1                 0.0             0                  1   \n",
       "2    Unit10                 1.0             1                  1   \n",
       "3   Unit100                 0.0             0                  1   \n",
       "4  Unit1000                 0.0             0                  0   \n",
       "\n",
       "   unit_damp_ind  \n",
       "0              1  \n",
       "1              1  \n",
       "2              1  \n",
       "3              1  \n",
       "4              0  "
      ]
     },
     "execution_count": 3,
     "metadata": {},
     "output_type": "execute_result"
    }
   ],
   "source": [
    "unit_df.head()"
   ]
  },
  {
   "cell_type": "markdown",
   "id": "1b804948",
   "metadata": {},
   "source": [
    "Each row of `unit_df` represents a unit which is occupied on 2020-06-01. \n",
    "- `unit_vul_ind` indicates whether the unit has at least one vulnerable tenant\n",
    "- `unit_damp_ind` indicates whether the unit reported damp and mould issues at least once during the tenancy."
   ]
  },
  {
   "cell_type": "code",
   "execution_count": 4,
   "id": "eb5673a4",
   "metadata": {},
   "outputs": [
    {
     "data": {
      "text/html": [
       "<div>\n",
       "<style scoped>\n",
       "    .dataframe tbody tr th:only-of-type {\n",
       "        vertical-align: middle;\n",
       "    }\n",
       "\n",
       "    .dataframe tbody tr th {\n",
       "        vertical-align: top;\n",
       "    }\n",
       "\n",
       "    .dataframe thead th {\n",
       "        text-align: right;\n",
       "    }\n",
       "</style>\n",
       "<table border=\"1\" class=\"dataframe\">\n",
       "  <thead>\n",
       "    <tr style=\"text-align: right;\">\n",
       "      <th>unit_vul_ind</th>\n",
       "      <th>0</th>\n",
       "      <th>1</th>\n",
       "      <th>All</th>\n",
       "    </tr>\n",
       "    <tr>\n",
       "      <th>unit_damp_ind</th>\n",
       "      <th></th>\n",
       "      <th></th>\n",
       "      <th></th>\n",
       "    </tr>\n",
       "  </thead>\n",
       "  <tbody>\n",
       "    <tr>\n",
       "      <th>0</th>\n",
       "      <td>6381</td>\n",
       "      <td>1970</td>\n",
       "      <td>8351</td>\n",
       "    </tr>\n",
       "    <tr>\n",
       "      <th>1</th>\n",
       "      <td>777</td>\n",
       "      <td>432</td>\n",
       "      <td>1209</td>\n",
       "    </tr>\n",
       "    <tr>\n",
       "      <th>All</th>\n",
       "      <td>7158</td>\n",
       "      <td>2402</td>\n",
       "      <td>9560</td>\n",
       "    </tr>\n",
       "  </tbody>\n",
       "</table>\n",
       "</div>"
      ],
      "text/plain": [
       "unit_vul_ind      0     1   All\n",
       "unit_damp_ind                  \n",
       "0              6381  1970  8351\n",
       "1               777   432  1209\n",
       "All            7158  2402  9560"
      ]
     },
     "execution_count": 4,
     "metadata": {},
     "output_type": "execute_result"
    }
   ],
   "source": [
    "pd.crosstab(unit_df[\"unit_damp_ind\"], unit_df[\"unit_vul_ind\"], margins=True)"
   ]
  },
  {
   "cell_type": "markdown",
   "id": "a1106b75",
   "metadata": {},
   "source": [
    "We have a total of 7158 properties with non-vulnerable tenants, of which 777 reported damp and mould issues at least once, and a total of 2402 properties with at least one vulnerable tenant, of which 432 reported damp and mould issues at least once."
   ]
  },
  {
   "cell_type": "markdown",
   "id": "e8c28834",
   "metadata": {},
   "source": [
    "## Hypothesis Testing"
   ]
  },
  {
   "cell_type": "code",
   "execution_count": 5,
   "id": "557123ad",
   "metadata": {},
   "outputs": [
    {
     "name": "stdout",
     "output_type": "stream",
     "text": [
      "Test statistic: 9.097456, p-value: 0.000000\n"
     ]
    }
   ],
   "source": [
    "from scipy import stats\n",
    "\n",
    "y1, y2 = 432, 777\n",
    "n1, n2 = 2402, 7158\n",
    "p1, p2 = y1/n1, y2/n2\n",
    "p = (y1+y2)/(n1+n2)\n",
    "\n",
    "se = (p*(1-p)*((1/n1)+(1/n2)))**(1/2)\n",
    "z = (p1-p2)/se \n",
    "\n",
    "p_value = stats.norm.sf(z)\n",
    "print(f\"Test statistic: {z:4f}, p-value: {p_value:4f}\")"
   ]
  },
  {
   "cell_type": "code",
   "execution_count": 6,
   "id": "93c55dee",
   "metadata": {},
   "outputs": [
    {
     "name": "stdout",
     "output_type": "stream",
     "text": [
      "Test statistic: 9.097456, p-value: 0.000000\n"
     ]
    }
   ],
   "source": [
    "# reassure our hypothesis testing is correct using built-in function from statsmodel\n",
    "from statsmodels.stats.proportion import proportions_ztest\n",
    "\n",
    "z, p_value = proportions_ztest(count=[y1, y2], nobs=[n1, n2], alternative=\"larger\")\n",
    "print(f\"Test statistic: {z:4f}, p-value: {p_value:4f}\")"
   ]
  },
  {
   "cell_type": "markdown",
   "id": "b31b09e0",
   "metadata": {},
   "source": [
    "## Conclusion\n",
    "\n",
    "The p-value is very small so it is very unlikely that we observe this large difference in proportion if the proportions are the same. Therefore, there is significant evidence to reject the null hypothesis at 1% significance level and we can conclude that properties with vulnerable tenants have higher likelihood of developing damp and mould problems.  "
   ]
  },
  {
   "cell_type": "markdown",
   "id": "1360010b",
   "metadata": {},
   "source": [
    "## Appendix\n",
    "\n",
    "We can view each unit $X_i$ as a Bernoulli random variable with   \n",
    "\n",
    "$\n",
    "X_i=\\begin{cases}\n",
    "      1, & \\text{if unit has damp and mould problem} \\\\\n",
    "      0, & \\text{otherwise}\n",
    "    \\end{cases}\n",
    "$\n",
    "\n",
    "For a Bernoulli random variable, the sample mean $\\bar{X}$ is also the sample proportion $\\hat{p}$.\n",
    "\n",
    "By Central Limit Theorem, if we have a random sample of size n, $X_1, X_2, ... X_n$, then the sample mean (proportion) is approximately normally distributed.\n",
    "\n",
    "$\\hat{p} \\sim N(p, \\frac{p(1-p)}{n})$.  \n",
    "\n",
    "Therefore, the difference in two proportions, $\\hat{p_1}-\\hat{p_2}$ is also approximately normally distributed.\n",
    "\n",
    "$\\hat{p_1}-\\hat{p_2} \\sim N(p_1-p_2, \\frac{p_1(1-p_1)}{n_1}+\\frac{p_2(1-p_2)}{n_2})$\n",
    "\n",
    "Under the null hypothesis $H_0: p_1=p_2$, the population proportions are equal to some common value $p$. \n",
    "\n",
    "$\\hat{p_1}-\\hat{p_2} \\sim N(0, p(1-p)(\\frac{1}{n_1}+\\frac{1}{n_2}))$\n",
    "\n",
    "Since we don't know the true proportion $p$, we estimate $p$ using the proportion of \"successes\" in the two samples combined."
   ]
  }
 ],
 "metadata": {
  "kernelspec": {
   "display_name": "Python 3",
   "language": "python",
   "name": "python3"
  },
  "language_info": {
   "codemirror_mode": {
    "name": "ipython",
    "version": 3
   },
   "file_extension": ".py",
   "mimetype": "text/x-python",
   "name": "python",
   "nbconvert_exporter": "python",
   "pygments_lexer": "ipython3",
   "version": "3.7.1"
  }
 },
 "nbformat": 4,
 "nbformat_minor": 5
}
